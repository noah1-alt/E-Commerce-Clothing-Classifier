{
 "cells": [
  {
   "cell_type": "code",
   "execution_count": 5,
   "id": "8225cc77",
   "metadata": {},
   "outputs": [],
   "source": [
    "import matplotlib.pyplot as plt\n",
    "import numpy as np\n",
    "import torch\n",
    "import torch.nn as nn\n",
    "from torchvision import datasets\n",
    "from torchvision.transforms import transforms"
   ]
  },
  {
   "cell_type": "markdown",
   "id": "67bf9b99",
   "metadata": {},
   "source": [
    "# Loading the data"
   ]
  },
  {
   "cell_type": "code",
   "execution_count": 7,
   "id": "b70e2173",
   "metadata": {},
   "outputs": [
    {
     "name": "stderr",
     "output_type": "stream",
     "text": [
      "100%|██████████| 26.4M/26.4M [00:41<00:00, 643kB/s] \n",
      "100%|██████████| 29.5k/29.5k [00:00<00:00, 193kB/s]\n",
      "100%|██████████| 4.42M/4.42M [00:02<00:00, 2.00MB/s]\n",
      "100%|██████████| 5.15k/5.15k [00:00<00:00, 2.58MB/s]\n"
     ]
    }
   ],
   "source": [
    "cloths_train_data = datasets.FashionMNIST(root= \"Ecommerce_clothing_classifier\", \n",
    "                                          train= True, transform= transforms.ToTensor(), download= True)\n"
   ]
  }
 ],
 "metadata": {
  "kernelspec": {
   "display_name": "Python 3",
   "language": "python",
   "name": "python3"
  },
  "language_info": {
   "codemirror_mode": {
    "name": "ipython",
    "version": 3
   },
   "file_extension": ".py",
   "mimetype": "text/x-python",
   "name": "python",
   "nbconvert_exporter": "python",
   "pygments_lexer": "ipython3",
   "version": "3.12.0"
  }
 },
 "nbformat": 4,
 "nbformat_minor": 5
}
