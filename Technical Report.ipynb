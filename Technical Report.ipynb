{
 "cells": [
  {
   "cell_type": "code",
   "execution_count": 12,
   "id": "8225cc77",
   "metadata": {},
   "outputs": [],
   "source": [
    "import matplotlib.pyplot as plt\n",
    "import numpy as np\n",
    "import torch\n",
    "import torch.nn as nn\n",
    "from torchvision import datasets\n",
    "from torchvision.transforms import transforms\n",
    "from torch.utils.data import DataLoader"
   ]
  },
  {
   "cell_type": "markdown",
   "id": "67bf9b99",
   "metadata": {},
   "source": [
    "# Loading the data"
   ]
  },
  {
   "cell_type": "code",
   "execution_count": 13,
   "id": "b70e2173",
   "metadata": {},
   "outputs": [],
   "source": [
    "cloths_train_data = datasets.FashionMNIST(root= \"Ecommerce_clothing_classifier\", \n",
    "                                          train= True, transform= transforms.ToTensor(), download= True)\n",
    "\n",
    "cloths_test_data = datasets.FashionMNIST(root= \"Ecommerce_clothing_classifier\", \n",
    "                                          train= False, transform= transforms.ToTensor(), download= True)\n",
    "\n"
   ]
  },
  {
   "cell_type": "code",
   "execution_count": 14,
   "id": "5aff90d5",
   "metadata": {},
   "outputs": [],
   "source": [
    "train_loader = DataLoader(cloths_train_data, batch_size = 32, shuffle = True)\n",
    "test_loader = DataLoader(cloths_test_data, batch_size= 32, shuffle = False)"
   ]
  },
  {
   "cell_type": "code",
   "execution_count": 20,
   "id": "0ff71884",
   "metadata": {},
   "outputs": [
    {
     "name": "stdout",
     "output_type": "stream",
     "text": [
      "Number of training images: 60000\n",
      "Number of testing images: 10000\n",
      "Image dimensions: torch.Size([1, 28, 28])\n",
      "Number of classes: 10\n",
      "Label names: ['T-shirt/top', 'Trouser', 'Pullover', 'Dress', 'Coat', 'Sandal', 'Shirt', 'Sneaker', 'Bag', 'Ankle boot']\n"
     ]
    }
   ],
   "source": [
    "# Check the number of images in train and test datasets\n",
    "num_train_images = len(cloths_train_data)\n",
    "num_test_images = len(cloths_test_data)\n",
    "\n",
    "# Check the image dimensions\n",
    "image_shape = cloths_train_data[0][0].shape  # Shape of the first image\n",
    "\n",
    "# Check the number of classes\n",
    "num_classes = len(cloths_train_data.classes)\n",
    "\n",
    "# Get the label names\n",
    "label_names = cloths_train_data.classes\n",
    "\n",
    "# Print the properties\n",
    "print(f\"Number of training images: {num_train_images}\")\n",
    "print(f\"Number of testing images: {num_test_images}\")\n",
    "print(f\"Image dimensions: {image_shape}\")\n",
    "print(f\"Number of classes: {num_classes}\")\n",
    "print(f\"Label names: {label_names}\")"
   ]
  },
  {
   "cell_type": "code",
   "execution_count": null,
   "id": "e41c2ad2",
   "metadata": {},
   "outputs": [],
   "source": []
  },
  {
   "cell_type": "code",
   "execution_count": 19,
   "id": "c967c7f9",
   "metadata": {},
   "outputs": [
    {
     "name": "stdout",
     "output_type": "stream",
     "text": [
      "torch.Size([1, 28, 28]) tensor(9)\n"
     ]
    }
   ],
   "source": [
    "# Get the first batch of images and labels\n",
    "first_batch = next(iter(train_loader))\n",
    "\n",
    "# Extract images and labels\n",
    "images, labels = first_batch\n",
    "\n",
    "# Print the types\n",
    "print(images[0].shape, labels[0])"
   ]
  },
  {
   "cell_type": "code",
   "execution_count": null,
   "id": "f8bca091",
   "metadata": {},
   "outputs": [],
   "source": []
  }
 ],
 "metadata": {
  "kernelspec": {
   "display_name": "Python 3",
   "language": "python",
   "name": "python3"
  },
  "language_info": {
   "codemirror_mode": {
    "name": "ipython",
    "version": 3
   },
   "file_extension": ".py",
   "mimetype": "text/x-python",
   "name": "python",
   "nbconvert_exporter": "python",
   "pygments_lexer": "ipython3",
   "version": "3.12.0"
  }
 },
 "nbformat": 4,
 "nbformat_minor": 5
}
